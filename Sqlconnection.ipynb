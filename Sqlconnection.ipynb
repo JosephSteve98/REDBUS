{
 "cells": [
  {
   "cell_type": "code",
   "execution_count": 1,
   "metadata": {},
   "outputs": [],
   "source": [
    "import pandas as pd\n",
    "import mysql.connector\n",
    "import numpy as np"
   ]
  },
  {
   "cell_type": "code",
   "execution_count": 7,
   "metadata": {},
   "outputs": [],
   "source": [
    "All_bus_info_to_sql = pd.read_csv(\"All_bus_info1\")"
   ]
  },
  {
   "cell_type": "code",
   "execution_count": 12,
   "metadata": {},
   "outputs": [],
   "source": [
    "All_bus_info_to_sql['Ratings'] = All_bus_info_to_sql['Ratings'].str.replace(r'\\n\\d+', '', regex=True).str.strip()"
   ]
  },
  {
   "cell_type": "code",
   "execution_count": 14,
   "metadata": {},
   "outputs": [
    {
     "data": {
      "text/html": [
       "<div>\n",
       "<style scoped>\n",
       "    .dataframe tbody tr th:only-of-type {\n",
       "        vertical-align: middle;\n",
       "    }\n",
       "\n",
       "    .dataframe tbody tr th {\n",
       "        vertical-align: top;\n",
       "    }\n",
       "\n",
       "    .dataframe thead th {\n",
       "        text-align: right;\n",
       "    }\n",
       "</style>\n",
       "<table border=\"1\" class=\"dataframe\">\n",
       "  <thead>\n",
       "    <tr style=\"text-align: right;\">\n",
       "      <th></th>\n",
       "      <th>Bus Name</th>\n",
       "      <th>Bus Type</th>\n",
       "      <th>Start Time</th>\n",
       "      <th>End Time</th>\n",
       "      <th>Duration</th>\n",
       "      <th>Price</th>\n",
       "      <th>Seat Availability</th>\n",
       "      <th>Ratings</th>\n",
       "      <th>Route Name</th>\n",
       "      <th>Route Link</th>\n",
       "      <th>State</th>\n",
       "    </tr>\n",
       "  </thead>\n",
       "  <tbody>\n",
       "    <tr>\n",
       "      <th>0</th>\n",
       "      <td>NBSTC -SLG-ROH-DJL-01-7:00 - 161760</td>\n",
       "      <td>Non AC Seater 2+2</td>\n",
       "      <td>07:00</td>\n",
       "      <td>10:00</td>\n",
       "      <td>03h 00m</td>\n",
       "      <td>INR 105</td>\n",
       "      <td>10 Seats available</td>\n",
       "      <td>3.2</td>\n",
       "      <td>Siliguri to Darjeeling</td>\n",
       "      <td>https://www.redbus.in/bus-tickets/siliguri-to-...</td>\n",
       "      <td>North Bengal</td>\n",
       "    </tr>\n",
       "    <tr>\n",
       "      <th>1</th>\n",
       "      <td>NBSTC -SLG-ROH-DJL-02-8:00 - 158470</td>\n",
       "      <td>Non AC Seater 2+2</td>\n",
       "      <td>08:00</td>\n",
       "      <td>11:00</td>\n",
       "      <td>03h 00m</td>\n",
       "      <td>INR 105</td>\n",
       "      <td>4 Seats available</td>\n",
       "      <td>3.7</td>\n",
       "      <td>Siliguri to Darjeeling</td>\n",
       "      <td>https://www.redbus.in/bus-tickets/siliguri-to-...</td>\n",
       "      <td>North Bengal</td>\n",
       "    </tr>\n",
       "  </tbody>\n",
       "</table>\n",
       "</div>"
      ],
      "text/plain": [
       "                              Bus Name           Bus Type Start Time End Time  \\\n",
       "0  NBSTC -SLG-ROH-DJL-01-7:00 - 161760  Non AC Seater 2+2      07:00    10:00   \n",
       "1  NBSTC -SLG-ROH-DJL-02-8:00 - 158470  Non AC Seater 2+2      08:00    11:00   \n",
       "\n",
       "  Duration    Price   Seat Availability Ratings              Route Name  \\\n",
       "0  03h 00m  INR 105  10 Seats available     3.2  Siliguri to Darjeeling   \n",
       "1  03h 00m  INR 105   4 Seats available     3.7  Siliguri to Darjeeling   \n",
       "\n",
       "                                          Route Link         State  \n",
       "0  https://www.redbus.in/bus-tickets/siliguri-to-...  North Bengal  \n",
       "1  https://www.redbus.in/bus-tickets/siliguri-to-...  North Bengal  "
      ]
     },
     "execution_count": 14,
     "metadata": {},
     "output_type": "execute_result"
    }
   ],
   "source": [
    "All_bus_info_to_sql[\"Ratings\"].dtype()"
   ]
  },
  {
   "cell_type": "code",
   "execution_count": 10,
   "metadata": {},
   "outputs": [],
   "source": [
    "##sql connection \n",
    "connection = mysql.connector.connect(\n",
    "    host =\"localhost\",\n",
    "    database = \"Redbus_information\",\n",
    "    user=\"root\",\n",
    "    password=\"1234\",\n",
    "    port=\"3306\"\n",
    ")\n",
    "cursor = connection.cursor()"
   ]
  },
  {
   "cell_type": "code",
   "execution_count": 11,
   "metadata": {},
   "outputs": [],
   "source": [
    "cursor.execute(\"DROP TABLE IF EXISTS REDBUS_TABLE\")"
   ]
  },
  {
   "cell_type": "code",
   "execution_count": 15,
   "metadata": {},
   "outputs": [],
   "source": [
    "#TABLE CREATION\n",
    "create_query = '''CREATE TABLE IF NOT EXISTS REDBUS_TABLE(\n",
    "    ID INT AUTO_INCREMENT PRIMARY KEY, \n",
    "    BUS_NAME VARCHAR(100), \n",
    "    BUS_TYPE TEXT, \n",
    "    START_TIME TIME, \n",
    "    END_TIME TIME, \n",
    "    DURATION VARCHAR(10), \n",
    "    PRICE DECIMAL(10, 2), \n",
    "    SEAT_AVAILABILITY INT, \n",
    "    RATINGS VARCHAR(10), \n",
    "    ROUTE_NAME VARCHAR(200),\n",
    "    ROUTE_LINK TEXT,\n",
    "    STATE TEXT\n",
    ")'''\n",
    "\n",
    "cursor.execute(create_query)\n",
    "connection.commit()"
   ]
  },
  {
   "cell_type": "code",
   "execution_count": null,
   "metadata": {},
   "outputs": [],
   "source": [
    "#CLEANING DATA\n",
    "# Replace NaN values with None\n",
    "#All_bus_info_to_sql = All_bus_info_to_sql.where(pd.notnull(All_bus_info_to_sql), None)\n",
    "\n",
    "# Clean the 'Price' column: Remove 'INR ' and convert to float\n",
    "All_bus_info_to_sql['Price'] = All_bus_info_to_sql['Price'].astype(str).str.replace('INR ', '').astype(float)\n",
    "\n",
    "\n",
    "\n"
   ]
  },
  {
   "cell_type": "code",
   "execution_count": 28,
   "metadata": {},
   "outputs": [],
   "source": [
    "# Clean the 'Seat Availability' column: Replace empty strings and non-digit characters, then convert to integer\n",
    "All_bus_info_to_sql['Seat Availability'] = (\n",
    "    All_bus_info_to_sql['Seat Availability']\n",
    "    .replace('', '0')  # Replace empty strings with '0'\n",
    "    .fillna('0')  # Replace NaN with '0'\n",
    "    .astype(str)  # Convert to string to allow regex replacement\n",
    "    .str.replace(r'\\D', '', regex=True)  # Remove non-digit characters\n",
    "    .replace('', '0')  # Replace any remaining empty strings with '0'\n",
    "    .astype(int)  # Convert to integer\n",
    ")\n"
   ]
  },
  {
   "cell_type": "code",
   "execution_count": 29,
   "metadata": {},
   "outputs": [
    {
     "data": {
      "text/html": [
       "<div>\n",
       "<style scoped>\n",
       "    .dataframe tbody tr th:only-of-type {\n",
       "        vertical-align: middle;\n",
       "    }\n",
       "\n",
       "    .dataframe tbody tr th {\n",
       "        vertical-align: top;\n",
       "    }\n",
       "\n",
       "    .dataframe thead th {\n",
       "        text-align: right;\n",
       "    }\n",
       "</style>\n",
       "<table border=\"1\" class=\"dataframe\">\n",
       "  <thead>\n",
       "    <tr style=\"text-align: right;\">\n",
       "      <th></th>\n",
       "      <th>Bus Name</th>\n",
       "      <th>Bus Type</th>\n",
       "      <th>Start Time</th>\n",
       "      <th>End Time</th>\n",
       "      <th>Duration</th>\n",
       "      <th>Price</th>\n",
       "      <th>Seat Availability</th>\n",
       "      <th>Ratings</th>\n",
       "      <th>Route Name</th>\n",
       "      <th>Route Link</th>\n",
       "      <th>State</th>\n",
       "    </tr>\n",
       "  </thead>\n",
       "  <tbody>\n",
       "    <tr>\n",
       "      <th>0</th>\n",
       "      <td>NBSTC -SLG-ROH-DJL-01-7:00 - 161760</td>\n",
       "      <td>Non AC Seater 2+2</td>\n",
       "      <td>07:00</td>\n",
       "      <td>10:00</td>\n",
       "      <td>03h 00m</td>\n",
       "      <td>105.0</td>\n",
       "      <td>10</td>\n",
       "      <td>3.2</td>\n",
       "      <td>Siliguri to Darjeeling</td>\n",
       "      <td>https://www.redbus.in/bus-tickets/siliguri-to-...</td>\n",
       "      <td>North Bengal</td>\n",
       "    </tr>\n",
       "    <tr>\n",
       "      <th>1</th>\n",
       "      <td>NBSTC -SLG-ROH-DJL-02-8:00 - 158470</td>\n",
       "      <td>Non AC Seater 2+2</td>\n",
       "      <td>08:00</td>\n",
       "      <td>11:00</td>\n",
       "      <td>03h 00m</td>\n",
       "      <td>105.0</td>\n",
       "      <td>4</td>\n",
       "      <td>3.7</td>\n",
       "      <td>Siliguri to Darjeeling</td>\n",
       "      <td>https://www.redbus.in/bus-tickets/siliguri-to-...</td>\n",
       "      <td>North Bengal</td>\n",
       "    </tr>\n",
       "    <tr>\n",
       "      <th>2</th>\n",
       "      <td>NBSTC-SLG-KOL-AC-18:45 - 176648</td>\n",
       "      <td>AC Seater (2+2)</td>\n",
       "      <td>18:45</td>\n",
       "      <td>07:00</td>\n",
       "      <td>12h 15m</td>\n",
       "      <td>1245.0</td>\n",
       "      <td>0</td>\n",
       "      <td>5.0</td>\n",
       "      <td>Siliguri to Kolkata</td>\n",
       "      <td>https://www.redbus.in/bus-tickets/siliguri-to-...</td>\n",
       "      <td>North Bengal</td>\n",
       "    </tr>\n",
       "    <tr>\n",
       "      <th>3</th>\n",
       "      <td>NBSTC-SLG-KOL-AC-19:00 - 157844</td>\n",
       "      <td>AC Seater (2+2)</td>\n",
       "      <td>19:00</td>\n",
       "      <td>07:00</td>\n",
       "      <td>12h 00m</td>\n",
       "      <td>1245.0</td>\n",
       "      <td>0</td>\n",
       "      <td>2.9</td>\n",
       "      <td>Siliguri to Kolkata</td>\n",
       "      <td>https://www.redbus.in/bus-tickets/siliguri-to-...</td>\n",
       "      <td>North Bengal</td>\n",
       "    </tr>\n",
       "    <tr>\n",
       "      <th>4</th>\n",
       "      <td>WBTC (CTC) KOLKATA-RAIGUNGE-SILIGURI(AC-VOLVO)...</td>\n",
       "      <td>Volvo AC Seater (2+2)</td>\n",
       "      <td>18:30</td>\n",
       "      <td>06:15</td>\n",
       "      <td>11h 45m</td>\n",
       "      <td>1355.0</td>\n",
       "      <td>0</td>\n",
       "      <td>3.5</td>\n",
       "      <td>Siliguri to Kolkata</td>\n",
       "      <td>https://www.redbus.in/bus-tickets/siliguri-to-...</td>\n",
       "      <td>North Bengal</td>\n",
       "    </tr>\n",
       "  </tbody>\n",
       "</table>\n",
       "</div>"
      ],
      "text/plain": [
       "                                            Bus Name               Bus Type  \\\n",
       "0                NBSTC -SLG-ROH-DJL-01-7:00 - 161760      Non AC Seater 2+2   \n",
       "1                NBSTC -SLG-ROH-DJL-02-8:00 - 158470      Non AC Seater 2+2   \n",
       "2                    NBSTC-SLG-KOL-AC-18:45 - 176648        AC Seater (2+2)   \n",
       "3                    NBSTC-SLG-KOL-AC-19:00 - 157844        AC Seater (2+2)   \n",
       "4  WBTC (CTC) KOLKATA-RAIGUNGE-SILIGURI(AC-VOLVO)...  Volvo AC Seater (2+2)   \n",
       "\n",
       "  Start Time End Time Duration   Price  Seat Availability Ratings  \\\n",
       "0      07:00    10:00  03h 00m   105.0                 10     3.2   \n",
       "1      08:00    11:00  03h 00m   105.0                  4     3.7   \n",
       "2      18:45    07:00  12h 15m  1245.0                  0     5.0   \n",
       "3      19:00    07:00  12h 00m  1245.0                  0     2.9   \n",
       "4      18:30    06:15  11h 45m  1355.0                  0     3.5   \n",
       "\n",
       "               Route Name                                         Route Link  \\\n",
       "0  Siliguri to Darjeeling  https://www.redbus.in/bus-tickets/siliguri-to-...   \n",
       "1  Siliguri to Darjeeling  https://www.redbus.in/bus-tickets/siliguri-to-...   \n",
       "2     Siliguri to Kolkata  https://www.redbus.in/bus-tickets/siliguri-to-...   \n",
       "3     Siliguri to Kolkata  https://www.redbus.in/bus-tickets/siliguri-to-...   \n",
       "4     Siliguri to Kolkata  https://www.redbus.in/bus-tickets/siliguri-to-...   \n",
       "\n",
       "          State  \n",
       "0  North Bengal  \n",
       "1  North Bengal  \n",
       "2  North Bengal  \n",
       "3  North Bengal  \n",
       "4  North Bengal  "
      ]
     },
     "execution_count": 29,
     "metadata": {},
     "output_type": "execute_result"
    }
   ],
   "source": [
    "All_bus_info_to_sql.head()"
   ]
  },
  {
   "cell_type": "code",
   "execution_count": 30,
   "metadata": {},
   "outputs": [],
   "source": [
    "#DATA INSERTION INTO TABLE \n",
    "insert_query ='''INSERT INTO REDBUS_TABLE(BUS_NAME ,BUS_TYPE ,START_TIME ,END_TIME ,DURATION ,PRICE ,SEAT_AVAILABILITY ,RATINGS ,\n",
    "                                        ROUTE_NAME ,ROUTE_LINK ,STATE ) VALUES (%s,%s,%s,%s,%s,%s,%s,%s,%s,%s,%s)'''\n",
    "data = All_bus_info_to_sql.values.tolist()\n",
    "cursor.executemany(insert_query,data)\n",
    "connection.commit() "
   ]
  },
  {
   "cell_type": "code",
   "execution_count": 23,
   "metadata": {},
   "outputs": [
    {
     "name": "stdout",
     "output_type": "stream",
     "text": [
      "Bus Name             0\n",
      "Bus Type             0\n",
      "Start Time           0\n",
      "End Time             0\n",
      "Duration             0\n",
      "Price                0\n",
      "Seat Availability    0\n",
      "Ratings              0\n",
      "Route Name           0\n",
      "Route Link           0\n",
      "State                0\n",
      "dtype: int64\n"
     ]
    }
   ],
   "source": [
    "has_nan = All_bus_info_to_sql.isnull().sum()\n",
    "print(has_nan)\n"
   ]
  },
  {
   "cell_type": "code",
   "execution_count": 22,
   "metadata": {},
   "outputs": [],
   "source": [
    "All_bus_info_to_sql.fillna(value=\"Nothing to display\", inplace=True)\n"
   ]
  },
  {
   "cell_type": "code",
   "execution_count": 16,
   "metadata": {},
   "outputs": [
    {
     "data": {
      "text/plain": [
       "['NBSTC -SLG-ROH-DJL-01-7:00 - 161760',\n",
       " 'Non AC Seater 2+2',\n",
       " '07:00',\n",
       " '10:00',\n",
       " '03h 00m',\n",
       " 'INR 105',\n",
       " '10 Seats available',\n",
       " '3.2',\n",
       " 'Siliguri to Darjeeling',\n",
       " 'https://www.redbus.in/bus-tickets/siliguri-to-darjeeling',\n",
       " 'North Bengal']"
      ]
     },
     "execution_count": 16,
     "metadata": {},
     "output_type": "execute_result"
    }
   ],
   "source": [
    "data = All_bus_info_to_sql.values.tolist()\n",
    "data[0]"
   ]
  },
  {
   "cell_type": "code",
   "execution_count": 17,
   "metadata": {},
   "outputs": [
    {
     "data": {
      "text/plain": [
       "0                    Non AC Seater 2+2\n",
       "1                    Non AC Seater 2+2\n",
       "2                      AC Seater (2+2)\n",
       "3                      AC Seater (2+2)\n",
       "4                Volvo AC Seater (2+2)\n",
       "                     ...              \n",
       "5450                 A/C Sleeper (2+1)\n",
       "5451    Non A/C Seater / Sleeper (2+1)\n",
       "5452    Non A/C Seater / Sleeper (2+1)\n",
       "5453                 A/C Sleeper (2+1)\n",
       "5454    Non A/C Seater / Sleeper (2+1)\n",
       "Name: Bus Type, Length: 5455, dtype: object"
      ]
     },
     "execution_count": 17,
     "metadata": {},
     "output_type": "execute_result"
    }
   ],
   "source": [
    "All_bus_info_to_sql[\"Bus Type\"]"
   ]
  }
 ],
 "metadata": {
  "kernelspec": {
   "display_name": "Python 3",
   "language": "python",
   "name": "python3"
  },
  "language_info": {
   "codemirror_mode": {
    "name": "ipython",
    "version": 3
   },
   "file_extension": ".py",
   "mimetype": "text/x-python",
   "name": "python",
   "nbconvert_exporter": "python",
   "pygments_lexer": "ipython3",
   "version": "3.11.4"
  }
 },
 "nbformat": 4,
 "nbformat_minor": 2
}
